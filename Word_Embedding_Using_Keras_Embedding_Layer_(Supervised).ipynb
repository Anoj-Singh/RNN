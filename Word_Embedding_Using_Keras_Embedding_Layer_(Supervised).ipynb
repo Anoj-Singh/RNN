{
  "nbformat": 4,
  "nbformat_minor": 0,
  "metadata": {
    "colab": {
      "name": "Word Embedding Using Keras Embedding Layer (Supervised).ipynb",
      "provenance": [],
      "collapsed_sections": []
    },
    "kernelspec": {
      "name": "python3",
      "display_name": "Python 3"
    },
    "language_info": {
      "name": "python"
    }
  },
  "cells": [
    {
      "cell_type": "code",
      "metadata": {
        "id": "Y2Hqhq7jm18B"
      },
      "source": [
        "import numpy as np\n",
        "from keras.preprocessing.text import one_hot\n",
        "from keras.preprocessing.sequence import pad_sequences\n",
        "from keras.models import Sequential\n",
        "from keras import layers \n",
        "from keras.layers import Embedding"
      ],
      "execution_count": 76,
      "outputs": []
    },
    {
      "cell_type": "code",
      "metadata": {
        "id": "PPPe6NA2pE-J"
      },
      "source": [
        "reviews = ['nice food',\n",
        "        'amazing restaurant',\n",
        "        'too good',\n",
        "        'just loved it!',\n",
        "        'will go again',\n",
        "        'horrible food',\n",
        "        'never go there',\n",
        "        'poor service',\n",
        "        'poor quality',\n",
        "        'needs improvement']\n",
        "\n",
        "sentiment = np.array([1,1,1,1,1,0,0,0,0,0])"
      ],
      "execution_count": 77,
      "outputs": []
    },
    {
      "cell_type": "code",
      "metadata": {
        "colab": {
          "base_uri": "https://localhost:8080/"
        },
        "id": "DAjOg3qjpSVx",
        "outputId": "d5366991-6ad2-4d9b-ab73-31034375c2bf"
      },
      "source": [
        "reviews[:5]"
      ],
      "execution_count": 80,
      "outputs": [
        {
          "output_type": "execute_result",
          "data": {
            "text/plain": [
              "['nice food',\n",
              " 'amazing restaurant',\n",
              " 'too good',\n",
              " 'just loved it!',\n",
              " 'will go again']"
            ]
          },
          "metadata": {
            "tags": []
          },
          "execution_count": 80
        }
      ]
    },
    {
      "cell_type": "code",
      "metadata": {
        "colab": {
          "base_uri": "https://localhost:8080/"
        },
        "id": "1kCoWQerpWUH",
        "outputId": "2d563567-ac61-49ff-d2ea-3ee0d564865b"
      },
      "source": [
        "sentiment[:5]"
      ],
      "execution_count": 81,
      "outputs": [
        {
          "output_type": "execute_result",
          "data": {
            "text/plain": [
              "array([1, 1, 1, 1, 1])"
            ]
          },
          "metadata": {
            "tags": []
          },
          "execution_count": 81
        }
      ]
    },
    {
      "cell_type": "code",
      "metadata": {
        "colab": {
          "base_uri": "https://localhost:8080/"
        },
        "id": "xQfAZ-GXpcPc",
        "outputId": "811d58df-dd2d-4aa9-d39a-f241046ff954"
      },
      "source": [
        "one_hot('needs improvement', 50)"
      ],
      "execution_count": 82,
      "outputs": [
        {
          "output_type": "execute_result",
          "data": {
            "text/plain": [
              "[36, 22]"
            ]
          },
          "metadata": {
            "tags": []
          },
          "execution_count": 82
        }
      ]
    },
    {
      "cell_type": "code",
      "metadata": {
        "colab": {
          "base_uri": "https://localhost:8080/"
        },
        "id": "sYW72g5rpoEj",
        "outputId": "113e8e0a-1956-4c18-8bc1-7df145701d0d"
      },
      "source": [
        "vocabulary_size = 50\n",
        "\n",
        "one_hot_reviews = [one_hot(review, vocabulary_size) for review in reviews]\n",
        "one_hot_reviews"
      ],
      "execution_count": 83,
      "outputs": [
        {
          "output_type": "execute_result",
          "data": {
            "text/plain": [
              "[[27, 42],\n",
              " [38, 32],\n",
              " [5, 5],\n",
              " [29, 29, 25],\n",
              " [14, 33, 10],\n",
              " [18, 42],\n",
              " [2, 33, 17],\n",
              " [15, 11],\n",
              " [15, 43],\n",
              " [36, 22]]"
            ]
          },
          "metadata": {
            "tags": []
          },
          "execution_count": 83
        }
      ]
    },
    {
      "cell_type": "code",
      "metadata": {
        "colab": {
          "base_uri": "https://localhost:8080/"
        },
        "id": "FVhP-LfUp7Kg",
        "outputId": "702a523a-c767-4bd2-c92f-c9cb49d2582a"
      },
      "source": [
        "max_lenght = 3\n",
        "\n",
        "padded_reviews = pad_sequences(one_hot_reviews, maxlen=max_lenght, padding='post')\n",
        "padded_reviews"
      ],
      "execution_count": 92,
      "outputs": [
        {
          "output_type": "execute_result",
          "data": {
            "text/plain": [
              "array([[27, 42,  0],\n",
              "       [38, 32,  0],\n",
              "       [ 5,  5,  0],\n",
              "       [29, 29, 25],\n",
              "       [14, 33, 10],\n",
              "       [18, 42,  0],\n",
              "       [ 2, 33, 17],\n",
              "       [15, 11,  0],\n",
              "       [15, 43,  0],\n",
              "       [36, 22,  0]], dtype=int32)"
            ]
          },
          "metadata": {
            "tags": []
          },
          "execution_count": 92
        }
      ]
    },
    {
      "cell_type": "code",
      "metadata": {
        "id": "0ZC24mpjsGU2"
      },
      "source": [
        "x = padded_reviews\n",
        "y = sentiment"
      ],
      "execution_count": 94,
      "outputs": []
    },
    {
      "cell_type": "code",
      "metadata": {
        "colab": {
          "base_uri": "https://localhost:8080/"
        },
        "id": "0m8iIMThqJQy",
        "outputId": "b87bb125-957a-47a0-f4e1-3861c5b04136"
      },
      "source": [
        "embedding_feature_size = 4\n",
        "\n",
        "model = Sequential()\n",
        "model.add(Embedding(\n",
        "    vocabulary_size, \n",
        "    embedding_feature_size, \n",
        "    input_length=max_lenght, \n",
        "    name='embedding'\n",
        "    ))\n",
        "\n",
        "model.add(layers.Flatten())\n",
        "model.add(layers.Dense(units=1, activation='sigmoid'))\n",
        "model.summary()"
      ],
      "execution_count": 93,
      "outputs": [
        {
          "output_type": "stream",
          "text": [
            "Model: \"sequential_5\"\n",
            "_________________________________________________________________\n",
            "Layer (type)                 Output Shape              Param #   \n",
            "=================================================================\n",
            "embedding (Embedding)        (None, 3, 4)              200       \n",
            "_________________________________________________________________\n",
            "flatten_4 (Flatten)          (None, 12)                0         \n",
            "_________________________________________________________________\n",
            "dense_3 (Dense)              (None, 1)                 13        \n",
            "=================================================================\n",
            "Total params: 213\n",
            "Trainable params: 213\n",
            "Non-trainable params: 0\n",
            "_________________________________________________________________\n"
          ],
          "name": "stdout"
        }
      ]
    },
    {
      "cell_type": "code",
      "metadata": {
        "colab": {
          "base_uri": "https://localhost:8080/"
        },
        "id": "jBKdZPo-ryTN",
        "outputId": "c9cb6e74-fd6c-480c-8774-879939b2517f"
      },
      "source": [
        "model.compile(\n",
        "    optimizer='adam', \n",
        "    loss='binary_crossentropy', \n",
        "    metrics=['acc']\n",
        "    )\n",
        "\n",
        "model.fit(\n",
        "    x, \n",
        "    y, \n",
        "    epochs=20, \n",
        "    verbose=0\n",
        "    )"
      ],
      "execution_count": 100,
      "outputs": [
        {
          "output_type": "execute_result",
          "data": {
            "text/plain": [
              "<tensorflow.python.keras.callbacks.History at 0x7fc0fc4df550>"
            ]
          },
          "metadata": {
            "tags": []
          },
          "execution_count": 100
        }
      ]
    },
    {
      "cell_type": "code",
      "metadata": {
        "colab": {
          "base_uri": "https://localhost:8080/"
        },
        "id": "snjSG8tvsQvJ",
        "outputId": "84998ba7-99f8-4e57-9893-bbedaacac446"
      },
      "source": [
        "loss, accuracy = model.evaluate(x, y)\n",
        "loss, accuracy"
      ],
      "execution_count": 101,
      "outputs": [
        {
          "output_type": "stream",
          "text": [
            "1/1 [==============================] - 0s 100ms/step - loss: 0.5685 - acc: 1.0000\n"
          ],
          "name": "stdout"
        },
        {
          "output_type": "execute_result",
          "data": {
            "text/plain": [
              "(0.5684901475906372, 1.0)"
            ]
          },
          "metadata": {
            "tags": []
          },
          "execution_count": 101
        }
      ]
    },
    {
      "cell_type": "code",
      "metadata": {
        "colab": {
          "base_uri": "https://localhost:8080/"
        },
        "id": "wdrNpnnPscnW",
        "outputId": "37714c2f-ce99-4068-db54-64c0a984cc16"
      },
      "source": [
        "model.get_layer('embedding').get_weights()[0]"
      ],
      "execution_count": 102,
      "outputs": [
        {
          "output_type": "execute_result",
          "data": {
            "text/plain": [
              "array([[ 5.77073954e-02,  1.39195099e-01, -7.38048702e-02,\n",
              "        -1.07936338e-01],\n",
              "       [ 4.26434390e-02,  1.39576532e-02,  8.22987407e-03,\n",
              "        -3.68744135e-03],\n",
              "       [-8.39819983e-02,  1.34202838e-01, -9.53623131e-02,\n",
              "         7.85126835e-02],\n",
              "       [ 4.94719259e-02, -2.51257177e-02, -4.95472662e-02,\n",
              "        -2.48840209e-02],\n",
              "       [ 3.30007412e-02, -1.72408111e-02, -1.74011588e-02,\n",
              "         2.77758576e-02],\n",
              "       [-1.30432680e-01, -7.16282949e-02,  7.42950961e-02,\n",
              "        -8.40196535e-02],\n",
              "       [ 2.95908786e-02, -4.31770198e-02, -2.96194479e-03,\n",
              "        -1.56788230e-02],\n",
              "       [ 4.31490280e-02, -4.89254706e-02,  6.48493692e-03,\n",
              "         1.96432732e-02],\n",
              "       [ 1.25122331e-02, -3.67064960e-02,  3.42784859e-02,\n",
              "         1.81068443e-02],\n",
              "       [-9.38899443e-03,  1.50947832e-02,  4.85807657e-03,\n",
              "        -2.14596875e-02],\n",
              "       [-1.33791104e-01, -1.09772503e-01,  1.28329933e-01,\n",
              "         9.73426625e-02],\n",
              "       [ 7.23486319e-02, -1.37993649e-01, -1.22622557e-01,\n",
              "        -4.07288037e-02],\n",
              "       [-1.92492735e-02,  4.96956818e-02, -4.53173406e-02,\n",
              "         1.78172477e-02],\n",
              "       [-4.70683090e-02, -1.15947500e-02, -8.96515697e-03,\n",
              "        -2.26152427e-02],\n",
              "       [ 1.12117641e-01, -6.84528649e-02,  1.11682102e-01,\n",
              "        -6.75879121e-02],\n",
              "       [-4.70935702e-02,  6.35612309e-02, -4.74112928e-02,\n",
              "         1.08586505e-01],\n",
              "       [ 1.00371353e-02,  7.15150684e-03,  6.53079897e-03,\n",
              "         3.04867961e-02],\n",
              "       [ 7.16580376e-02,  1.18419223e-01, -1.14337996e-01,\n",
              "        -5.88967949e-02],\n",
              "       [-1.34897247e-01,  1.03539616e-01, -1.36272967e-01,\n",
              "         5.86854182e-02],\n",
              "       [-4.97237816e-02,  2.24878229e-02,  2.17088200e-02,\n",
              "        -4.97261435e-03],\n",
              "       [-1.79768726e-03, -4.48417328e-02,  7.93601200e-03,\n",
              "         7.83849880e-03],\n",
              "       [ 2.32659616e-02, -1.50407441e-02, -1.52719729e-02,\n",
              "         2.84416713e-02],\n",
              "       [ 5.31224497e-02, -9.68763083e-02, -9.89791006e-02,\n",
              "        -5.72945066e-02],\n",
              "       [ 4.82110418e-02, -8.57114792e-03,  2.26037018e-02,\n",
              "        -6.65028021e-03],\n",
              "       [ 1.89022906e-02,  1.18676201e-02,  3.00237797e-02,\n",
              "        -3.00925132e-02],\n",
              "       [-5.27024008e-02, -6.85515106e-02,  7.60860890e-02,\n",
              "         6.61734566e-02],\n",
              "       [ 9.64843109e-03, -6.80094957e-03,  1.67896040e-02,\n",
              "        -3.97476181e-02],\n",
              "       [ 1.28115162e-01, -1.24601968e-01,  1.30712956e-01,\n",
              "        -1.12216845e-01],\n",
              "       [-2.09564101e-02,  2.13123076e-02,  3.50040458e-02,\n",
              "         2.08191164e-02],\n",
              "       [-9.30248350e-02, -1.18294269e-01,  5.80804348e-02,\n",
              "        -4.30350639e-02],\n",
              "       [-2.41028909e-02, -3.30950506e-02,  1.73387416e-02,\n",
              "        -3.66231427e-02],\n",
              "       [-2.56827828e-02, -4.01653275e-02,  2.08533928e-03,\n",
              "         2.90625207e-02],\n",
              "       [-1.00547664e-01,  4.97232825e-02,  1.20195843e-01,\n",
              "         4.53010909e-02],\n",
              "       [ 2.72425693e-02, -3.51867601e-02, -7.57279247e-02,\n",
              "        -6.17706738e-02],\n",
              "       [ 3.01888101e-02,  3.68183590e-02, -1.89843532e-02,\n",
              "        -2.42456682e-02],\n",
              "       [-2.41657142e-02, -4.93943691e-04, -7.76342303e-03,\n",
              "         6.81868941e-03],\n",
              "       [-4.70374487e-02,  1.23196907e-01, -7.53614306e-02,\n",
              "         1.12344258e-01],\n",
              "       [ 2.85143740e-02, -1.08260885e-02,  4.65119146e-02,\n",
              "         3.30801047e-02],\n",
              "       [ 6.43510818e-02, -1.20566025e-01,  6.28044605e-02,\n",
              "        -4.84044030e-02],\n",
              "       [ 2.79641636e-02,  1.23702511e-02,  3.21773998e-02,\n",
              "         3.51571105e-02],\n",
              "       [-3.49124074e-02, -4.83046658e-02,  4.14291136e-02,\n",
              "         4.36958559e-02],\n",
              "       [ 2.16371156e-02, -9.06050205e-03,  5.59464097e-05,\n",
              "        -4.81883399e-02],\n",
              "       [ 4.38151769e-02,  1.32971313e-02,  1.87210683e-02,\n",
              "         2.13432051e-02],\n",
              "       [ 4.07556333e-02, -4.50056046e-02, -1.35449678e-01,\n",
              "        -1.27391174e-01],\n",
              "       [-3.43350060e-02, -4.78000417e-02,  3.83895077e-02,\n",
              "        -3.65247242e-02],\n",
              "       [-3.14950943e-04, -2.72423513e-02,  4.35873158e-02,\n",
              "        -4.73144762e-02],\n",
              "       [-3.99897099e-02, -1.22398362e-02,  4.84658591e-02,\n",
              "        -1.27345324e-02],\n",
              "       [-3.99301425e-02, -2.25454569e-02,  5.00885397e-03,\n",
              "         1.06136575e-02],\n",
              "       [ 3.59005369e-02,  2.12335251e-02, -3.77416387e-02,\n",
              "         3.87669243e-02],\n",
              "       [-2.47800238e-02, -1.53713301e-03,  4.59586717e-02,\n",
              "        -4.61458229e-02]], dtype=float32)"
            ]
          },
          "metadata": {
            "tags": []
          },
          "execution_count": 102
        }
      ]
    },
    {
      "cell_type": "code",
      "metadata": {
        "colab": {
          "base_uri": "https://localhost:8080/"
        },
        "id": "rnG_Q8LrtBTt",
        "outputId": "2f98cb1a-ab1c-44ee-f23b-7146ec6137eb"
      },
      "source": [
        "weights = model.get_layer('embedding').get_weights()[0]\n",
        "weights[:5]"
      ],
      "execution_count": 104,
      "outputs": [
        {
          "output_type": "execute_result",
          "data": {
            "text/plain": [
              "array([[ 0.0577074 ,  0.1391951 , -0.07380487, -0.10793634],\n",
              "       [ 0.04264344,  0.01395765,  0.00822987, -0.00368744],\n",
              "       [-0.083982  ,  0.13420284, -0.09536231,  0.07851268],\n",
              "       [ 0.04947193, -0.02512572, -0.04954727, -0.02488402],\n",
              "       [ 0.03300074, -0.01724081, -0.01740116,  0.02777586]],\n",
              "      dtype=float32)"
            ]
          },
          "metadata": {
            "tags": []
          },
          "execution_count": 104
        }
      ]
    },
    {
      "cell_type": "code",
      "metadata": {
        "colab": {
          "base_uri": "https://localhost:8080/"
        },
        "id": "298OtG_6tHuE",
        "outputId": "55f55e24-e689-4f8f-b1f2-cac4a9552e0a"
      },
      "source": [
        "weights[27]"
      ],
      "execution_count": 105,
      "outputs": [
        {
          "output_type": "execute_result",
          "data": {
            "text/plain": [
              "array([ 0.12811516, -0.12460197,  0.13071296, -0.11221685], dtype=float32)"
            ]
          },
          "metadata": {
            "tags": []
          },
          "execution_count": 105
        }
      ]
    },
    {
      "cell_type": "code",
      "metadata": {
        "colab": {
          "base_uri": "https://localhost:8080/"
        },
        "id": "nB2DlUittR-p",
        "outputId": "be4baa2f-b688-440a-e997-7726a35e95f7"
      },
      "source": [
        "weights[5]"
      ],
      "execution_count": 106,
      "outputs": [
        {
          "output_type": "execute_result",
          "data": {
            "text/plain": [
              "array([-0.13043268, -0.07162829,  0.0742951 , -0.08401965], dtype=float32)"
            ]
          },
          "metadata": {
            "tags": []
          },
          "execution_count": 106
        }
      ]
    },
    {
      "cell_type": "code",
      "metadata": {
        "id": "e3nr3d9CtSzx"
      },
      "source": [
        ""
      ],
      "execution_count": null,
      "outputs": []
    }
  ]
}